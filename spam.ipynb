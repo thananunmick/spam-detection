{
 "cells": [
  {
   "cell_type": "markdown",
   "metadata": {},
   "source": [
    "## Disclaimer: The training and testing data are not included in the submission file because it is too large to submit. Please include the promotion_classifier_data in the current directory before running the notebook.\n",
    "\n",
    "# Setup"
   ]
  },
  {
   "cell_type": "code",
   "execution_count": 1,
   "metadata": {},
   "outputs": [],
   "source": [
    "%matplotlib inline"
   ]
  },
  {
   "cell_type": "code",
   "execution_count": 2,
   "metadata": {},
   "outputs": [],
   "source": [
    "import os\n",
    "import numpy as np\n",
    "import matplotlib.pyplot as plt\n",
    "import matplotlib.image as mpimg\n",
    "import pandas as pd\n",
    "from sklearn.model_selection import train_test_split\n",
    "from sklearn.feature_extraction.text import CountVectorizer\n",
    "from sklearn.feature_extraction.text import TfidfTransformer\n",
    "from sklearn.model_selection import train_test_split\n",
    "from sklearn.svm import SVC\n",
    "from sklearn.metrics import classification_report\n",
    "from sklearn.preprocessing import StandardScaler\n",
    "from sklearn.pipeline import Pipeline\n",
    "import pythainlp\n",
    "from pythainlp import word_tokenize\n",
    "from pythainlp.corpus.common import thai_stopwords\n",
    "from pythainlp.util import normalize\n",
    "import emoji\n",
    "import string\n",
    "import cv2\n",
    "import tensorflow as tf\n",
    "import keras\n",
    "from keras.models import Sequential, load_model\n",
    "from keras.layers import Dropout, Dense, GlobalAveragePooling2D, Flatten, UpSampling2D\n",
    "from keras.callbacks import Callback, EarlyStopping, ReduceLROnPlateau, CSVLogger\n",
    "from tensorflow.keras.optimizers import Adam\n",
    "import efficientnet.tfkeras as efn"
   ]
  },
  {
   "cell_type": "markdown",
   "metadata": {},
   "source": [
    "# Data Preparation"
   ]
  },
  {
   "cell_type": "code",
   "execution_count": 3,
   "metadata": {},
   "outputs": [],
   "source": [
    "data_csv_path = os.path.join(\"promotion_classifier_data\", \"training_set.csv\")\n",
    "data = pd.read_csv(data_csv_path)"
   ]
  },
  {
   "cell_type": "markdown",
   "metadata": {},
   "source": [
    "##### These are some functions that are used to clean and preprocess the data"
   ]
  },
  {
   "cell_type": "code",
   "execution_count": 4,
   "metadata": {},
   "outputs": [],
   "source": [
    "def get_path(promotion_id, type_of_image):\n",
    "    return os.path.join(\"promotion_classifier_data\", type_of_image, promotion_id) + \".jpg\"\n",
    "\n",
    "def get_img(path_to_img):\n",
    "    return mpimg.imread(path_to_img)\n",
    "\n",
    "def resize_img(img, shape):\n",
    "    return cv2.resize(img, (shape[1], shape[0]), interpolation=cv2.INTER_CUBIC)\n",
    "\n",
    "def remove_punctuation(text):\n",
    "    text_without_punctuation = \"\"\n",
    "    punctuations = []\n",
    "    punctuations[:0] = string.punctuation\n",
    "    \n",
    "    for char in text:\n",
    "        if not char in punctuations:\n",
    "            text_without_punctuation += char\n",
    "            \n",
    "    return text_without_punctuation\n",
    "            \n",
    "def remove_emoji(text):\n",
    "    return emoji.get_emoji_regexp().sub(\"\", text)\n",
    "\n",
    "def remove_stopwords(list_of_description):\n",
    "    tokenized_without_stopwords = []\n",
    "    stopwords = list(thai_stopwords())\n",
    "    for word in list_of_description:\n",
    "        if not (word in stopwords or \"\\n\" in word):\n",
    "            tokenized_without_stopwords.append(word)\n",
    "            \n",
    "    return tokenized_without_stopwords\n",
    "\n",
    "def transform_description(text):\n",
    "    without_punctuation_description = remove_punctuation(text)\n",
    "    normalized_description = normalize(without_punctuation_description)\n",
    "    emojiless_description = remove_emoji(normalized_description)\n",
    "    tokenized_description = word_tokenize(emojiless_description, keep_whitespace=False)\n",
    "    without_stopwords_description = remove_stopwords(tokenized_description)\n",
    "    \n",
    "    return without_stopwords_description\n",
    "\n",
    "def transform_img(promotion_id, type_of_image):\n",
    "    path_to_img = get_path(promotion_id, type_of_image)\n",
    "    img = get_img(path_to_img)\n",
    "    resized_img = resize_img(img, (299, 299))\n",
    "    \n",
    "    return resized_img\n",
    "\n",
    "def dataframe_pipeline(df, type_of_image):\n",
    "    df = df.fillna(\"\")\n",
    "    df.loc[:, \"tocount_description\"] = df[\"description\"].apply(word_tokenize)\n",
    "    df.loc[:, \"word_count\"] = df[\"tocount_description\"].apply(len)\n",
    "    df.loc[:, \"img_pixels\"] = df[\"PromotionId\"].apply(transform_img, type_of_image=type_of_image)\n",
    "    \n",
    "    return df"
   ]
  },
  {
   "cell_type": "code",
   "execution_count": 5,
   "metadata": {},
   "outputs": [
    {
     "data": {
      "text/html": [
       "<div>\n",
       "<style scoped>\n",
       "    .dataframe tbody tr th:only-of-type {\n",
       "        vertical-align: middle;\n",
       "    }\n",
       "\n",
       "    .dataframe tbody tr th {\n",
       "        vertical-align: top;\n",
       "    }\n",
       "\n",
       "    .dataframe thead th {\n",
       "        text-align: right;\n",
       "    }\n",
       "</style>\n",
       "<table border=\"1\" class=\"dataframe\">\n",
       "  <thead>\n",
       "    <tr style=\"text-align: right;\">\n",
       "      <th></th>\n",
       "      <th>PromotionId</th>\n",
       "      <th>description</th>\n",
       "      <th>bad</th>\n",
       "      <th>tocount_description</th>\n",
       "      <th>word_count</th>\n",
       "      <th>img_pixels</th>\n",
       "    </tr>\n",
       "  </thead>\n",
       "  <tbody>\n",
       "    <tr>\n",
       "      <th>0</th>\n",
       "      <td>1NWLAzBwCUadj2dLNYVrTib3XuTL0T</td>\n",
       "      <td>ซาลาปัง จัดใหญ่แทนใจคนที่คุณรัก</td>\n",
       "      <td>0</td>\n",
       "      <td>[ซา, ลา, ปัง,  , จัด, ใหญ่, แทน, ใจ, คน, ที่, ...</td>\n",
       "      <td>12</td>\n",
       "      <td>[[[225, 226, 231], [225, 226, 231], [225, 226,...</td>\n",
       "    </tr>\n",
       "    <tr>\n",
       "      <th>1</th>\n",
       "      <td>1NWLD3dp7tdq34WkgzQGLiPQM7dFC5</td>\n",
       "      <td>ทะเลทะลัก!! สุดยอดบุฟเฟ่ต์ทะเล ที่คุณไม่ควรพลา...</td>\n",
       "      <td>0</td>\n",
       "      <td>[ทะเล, ทะลัก, !!,  , สุดยอด, บุฟเฟ่ต์, ทะเล,  ...</td>\n",
       "      <td>80</td>\n",
       "      <td>[[[218, 159, 119], [233, 161, 123], [231, 147,...</td>\n",
       "    </tr>\n",
       "    <tr>\n",
       "      <th>2</th>\n",
       "      <td>1NWLCHgnVeBb2TIup13b1RSOLOl3Cq</td>\n",
       "      <td>บัตรสมาชิก By อ.กุ้งเผาโคราช\\n\\n\\n\\nบัตรสมาชิก...</td>\n",
       "      <td>1</td>\n",
       "      <td>[บัตรสมาชิก,  , By,  , อ., กุ้ง, เผา, โคราช, \\...</td>\n",
       "      <td>160</td>\n",
       "      <td>[[[255, 255, 255], [255, 255, 255], [255, 255,...</td>\n",
       "    </tr>\n",
       "    <tr>\n",
       "      <th>3</th>\n",
       "      <td>1NWLC9rEila7y7EyYKPp17zCMkjHs2</td>\n",
       "      <td>สาวกเพื่อสุขภาพครับ</td>\n",
       "      <td>1</td>\n",
       "      <td>[สาวก, เพื่อ, สุขภาพ, ครับ]</td>\n",
       "      <td>4</td>\n",
       "      <td>[[[110, 84, 57], [98, 38, 28], [19, 13, 11], [...</td>\n",
       "    </tr>\n",
       "    <tr>\n",
       "      <th>4</th>\n",
       "      <td>1NWLCUe1qEBZtZEwInmjdBoce8XBF2</td>\n",
       "      <td>วันเกิด แจ้งพนักงาน รับฟรีฮันนีโทส1จานค่ะ\\n\\n\\n\\n</td>\n",
       "      <td>0</td>\n",
       "      <td>[วันเกิด,  , แจ้ง, พนักงาน,  , รับ, ฟรี, ฮันนี...</td>\n",
       "      <td>16</td>\n",
       "      <td>[[[4, 4, 2], [6, 6, 4], [7, 7, 5], [7, 7, 5], ...</td>\n",
       "    </tr>\n",
       "    <tr>\n",
       "      <th>5</th>\n",
       "      <td>1NWLC9g0nfGqwDLV0jzcb8Q6Ys3ZBT</td>\n",
       "      <td>ร้านน่ารัก ๆ</td>\n",
       "      <td>1</td>\n",
       "      <td>[ร้าน, น่ารัก,  , ๆ]</td>\n",
       "      <td>4</td>\n",
       "      <td>[[[19, 21, 16], [79, 82, 75], [129, 132, 123],...</td>\n",
       "    </tr>\n",
       "    <tr>\n",
       "      <th>6</th>\n",
       "      <td>1NWLAyIft6FUB8MT4aK0IKjLsaN70y</td>\n",
       "      <td>โปรโมชั่นวันเกิด แสดงบัตรประจำตัวประชาชนตรงกับ...</td>\n",
       "      <td>0</td>\n",
       "      <td>[โปรโมชั่น, วันเกิด,  , แสดง, บัตรประจำตัวประช...</td>\n",
       "      <td>22</td>\n",
       "      <td>[[[252, 206, 69], [252, 206, 69], [252, 206, 6...</td>\n",
       "    </tr>\n",
       "    <tr>\n",
       "      <th>7</th>\n",
       "      <td>1NWLBEnYhTJOdIuQCdW8RgVh5yXBDZ</td>\n",
       "      <td>ชานม</td>\n",
       "      <td>1</td>\n",
       "      <td>[ชา, นม]</td>\n",
       "      <td>2</td>\n",
       "      <td>[[[59, 55, 56], [59, 55, 56], [53, 49, 49], [4...</td>\n",
       "    </tr>\n",
       "    <tr>\n",
       "      <th>8</th>\n",
       "      <td>1NWLDLTHIVeRaUZVvLobx8BeU4nrw1</td>\n",
       "      <td>ซื้อ 10 แก้ว ฟรี 1 แก้วค่ะ 😁</td>\n",
       "      <td>1</td>\n",
       "      <td>[ซื้อ,  , 10,  , แก้ว,  , ฟรี,  , 1,  , แก้ว, ...</td>\n",
       "      <td>14</td>\n",
       "      <td>[[[202, 205, 214], [203, 206, 213], [204, 207,...</td>\n",
       "    </tr>\n",
       "    <tr>\n",
       "      <th>9</th>\n",
       "      <td>1NWLCTNe0amJfILF8cozH9UUZEEmfR</td>\n",
       "      <td>สลัดเป็ด ซอสส้ม\\n\\n\\n</td>\n",
       "      <td>1</td>\n",
       "      <td>[สลัด, เป็ด,  , ซอส, ส้ม, \\n, \\n, \\n]</td>\n",
       "      <td>8</td>\n",
       "      <td>[[[161, 150, 141], [140, 126, 111], [140, 124,...</td>\n",
       "    </tr>\n",
       "  </tbody>\n",
       "</table>\n",
       "</div>"
      ],
      "text/plain": [
       "                      PromotionId  \\\n",
       "0  1NWLAzBwCUadj2dLNYVrTib3XuTL0T   \n",
       "1  1NWLD3dp7tdq34WkgzQGLiPQM7dFC5   \n",
       "2  1NWLCHgnVeBb2TIup13b1RSOLOl3Cq   \n",
       "3  1NWLC9rEila7y7EyYKPp17zCMkjHs2   \n",
       "4  1NWLCUe1qEBZtZEwInmjdBoce8XBF2   \n",
       "5  1NWLC9g0nfGqwDLV0jzcb8Q6Ys3ZBT   \n",
       "6  1NWLAyIft6FUB8MT4aK0IKjLsaN70y   \n",
       "7  1NWLBEnYhTJOdIuQCdW8RgVh5yXBDZ   \n",
       "8  1NWLDLTHIVeRaUZVvLobx8BeU4nrw1   \n",
       "9  1NWLCTNe0amJfILF8cozH9UUZEEmfR   \n",
       "\n",
       "                                         description  bad  \\\n",
       "0                    ซาลาปัง จัดใหญ่แทนใจคนที่คุณรัก    0   \n",
       "1  ทะเลทะลัก!! สุดยอดบุฟเฟ่ต์ทะเล ที่คุณไม่ควรพลา...    0   \n",
       "2  บัตรสมาชิก By อ.กุ้งเผาโคราช\\n\\n\\n\\nบัตรสมาชิก...    1   \n",
       "3                                สาวกเพื่อสุขภาพครับ    1   \n",
       "4  วันเกิด แจ้งพนักงาน รับฟรีฮันนีโทส1จานค่ะ\\n\\n\\n\\n    0   \n",
       "5                                       ร้านน่ารัก ๆ    1   \n",
       "6  โปรโมชั่นวันเกิด แสดงบัตรประจำตัวประชาชนตรงกับ...    0   \n",
       "7                                               ชานม    1   \n",
       "8                       ซื้อ 10 แก้ว ฟรี 1 แก้วค่ะ 😁    1   \n",
       "9                              สลัดเป็ด ซอสส้ม\\n\\n\\n    1   \n",
       "\n",
       "                                 tocount_description  word_count  \\\n",
       "0  [ซา, ลา, ปัง,  , จัด, ใหญ่, แทน, ใจ, คน, ที่, ...          12   \n",
       "1  [ทะเล, ทะลัก, !!,  , สุดยอด, บุฟเฟ่ต์, ทะเล,  ...          80   \n",
       "2  [บัตรสมาชิก,  , By,  , อ., กุ้ง, เผา, โคราช, \\...         160   \n",
       "3                        [สาวก, เพื่อ, สุขภาพ, ครับ]           4   \n",
       "4  [วันเกิด,  , แจ้ง, พนักงาน,  , รับ, ฟรี, ฮันนี...          16   \n",
       "5                               [ร้าน, น่ารัก,  , ๆ]           4   \n",
       "6  [โปรโมชั่น, วันเกิด,  , แสดง, บัตรประจำตัวประช...          22   \n",
       "7                                           [ชา, นม]           2   \n",
       "8  [ซื้อ,  , 10,  , แก้ว,  , ฟรี,  , 1,  , แก้ว, ...          14   \n",
       "9              [สลัด, เป็ด,  , ซอส, ส้ม, \\n, \\n, \\n]           8   \n",
       "\n",
       "                                          img_pixels  \n",
       "0  [[[225, 226, 231], [225, 226, 231], [225, 226,...  \n",
       "1  [[[218, 159, 119], [233, 161, 123], [231, 147,...  \n",
       "2  [[[255, 255, 255], [255, 255, 255], [255, 255,...  \n",
       "3  [[[110, 84, 57], [98, 38, 28], [19, 13, 11], [...  \n",
       "4  [[[4, 4, 2], [6, 6, 4], [7, 7, 5], [7, 7, 5], ...  \n",
       "5  [[[19, 21, 16], [79, 82, 75], [129, 132, 123],...  \n",
       "6  [[[252, 206, 69], [252, 206, 69], [252, 206, 6...  \n",
       "7  [[[59, 55, 56], [59, 55, 56], [53, 49, 49], [4...  \n",
       "8  [[[202, 205, 214], [203, 206, 213], [204, 207,...  \n",
       "9  [[[161, 150, 141], [140, 126, 111], [140, 124,...  "
      ]
     },
     "execution_count": 5,
     "metadata": {},
     "output_type": "execute_result"
    }
   ],
   "source": [
    "data = dataframe_pipeline(data, \"training_images\")\n",
    "\n",
    "data.head(10)"
   ]
  },
  {
   "cell_type": "markdown",
   "metadata": {},
   "source": [
    "Created a histogram to visualize the word count in spam and non-spam descriptions. There seems to be some differences in word count between spam and non-spam descriptions so I decided to make word count as another feature to the machine learning model."
   ]
  },
  {
   "cell_type": "code",
   "execution_count": 6,
   "metadata": {},
   "outputs": [
    {
     "data": {
      "image/png": "[encoded data removed]",
      "text/plain": [
       "<Figure size 864x288 with 2 Axes>"
      ]
     },
     "metadata": {
      "needs_background": "light"
     },
     "output_type": "display_data"
    }
   ],
   "source": [
    "hist = data.hist(column=\"word_count\", by=\"bad\" ,figsize=(12,4), bins = 10)\n",
    "\n",
    "for ax in hist.flatten():\n",
    "    ax.set_xlabel(\"Word count\")\n",
    "    ax.set_ylabel(\"Frequency\")"
   ]
  },
  {
   "cell_type": "markdown",
   "metadata": {},
   "source": [
    "### Preprocess for Image data\n",
    "\n",
    "The code below changes the image input into the shape that the deep learning model wants, which is (None, 299, 299, 3). The code below takes about 4-5 minutes to run."
   ]
  },
  {
   "cell_type": "code",
   "execution_count": 7,
   "metadata": {},
   "outputs": [],
   "source": [
    "img_input = data[\"img_pixels\"][0].reshape(1, 299, 299, 3)\n",
    "for idx, img in enumerate(data[\"img_pixels\"].values):\n",
    "    if idx != 0:\n",
    "        img_input = np.concatenate((img_input, img.reshape(1, 299, 299, 3)))\n",
    "    \n",
    "# with open(\"img_input.npy\", \"wb\") as f:\n",
    "#     np.save(f, img_input)\n",
    "\n",
    "# with open(\"img_input.npy\", \"rb\") as f:\n",
    "#     img_input = np.load(f)"
   ]
  },
  {
   "cell_type": "markdown",
   "metadata": {},
   "source": [
    "Divided the data into a train, validation and test set with an 80% for training data and 10% each for validation and testing data."
   ]
  },
  {
   "cell_type": "code",
   "execution_count": 8,
   "metadata": {},
   "outputs": [],
   "source": [
    "X_img_train, X_img_test, y_img_train, y_img_test = train_test_split(img_input, data[\"bad\"].values, train_size=0.8, random_state=35)\n",
    "X_img_val, X_img_test, y_img_val, y_img_test = train_test_split(X_img_test, y_img_test, train_size=0.5, random_state=35)\n"
   ]
  },
  {
   "cell_type": "markdown",
   "metadata": {},
   "source": [
    "I did some image augmentation so that we will have more data to train. However, the model's accuracy is better without these augmented images so I commented out the code."
   ]
  },
  {
   "cell_type": "code",
   "execution_count": 9,
   "metadata": {},
   "outputs": [],
   "source": [
    "# data_augmentation = tf.keras.Sequential([\n",
    "#   tf.keras.layers.RandomFlip(\"horizontal_and_vertical\"),\n",
    "#   tf.keras.layers.RandomRotation(0.2),\n",
    "# ])\n",
    "\n",
    "# for idx in range(501):\n",
    "#     for i in range(2):\n",
    "#         augmented_image = data_augmentation(X_img_train[idx])\n",
    "#         augmented_image = np.floor(augmented_image.numpy()).astype(int).reshape(1, 299, 299, 3)\n",
    "#         X_img_train = np.concatenate((X_img_train, augmented_image), axis=0)\n",
    "#         y_img_train = np.concatenate((y_img_train, np.array([y_img_train[idx]])), axis=0)\n",
    "\n",
    "# with open(\"X_img_train.npy\", \"wb\") as f:\n",
    "#     np.save(f, X_img_train)\n",
    "\n",
    "# with open(\"y_img_train.npy\", \"wb\") as f:\n",
    "#     np.save(f, y_img_train)\n",
    "    \n",
    "# with open(\"X_img_train.npy\", \"rb\") as f:\n",
    "#     X_img_train = np.load(f)\n",
    "    \n",
    "# with open(\"y_img_train.npy\", \"rb\") as f:\n",
    "#     y_img_train = np.load(f)"
   ]
  },
  {
   "cell_type": "markdown",
   "metadata": {},
   "source": [
    "### Preprocess for description data\n",
    "\n",
    "Transform the data using CountVectorizer and TfidfTransformer."
   ]
  },
  {
   "cell_type": "code",
   "execution_count": 10,
   "metadata": {},
   "outputs": [],
   "source": [
    "data_for_prediction = data.copy()\n",
    "data = data.drop(labels=np.where(data[\"description\"].apply(lambda x: x == ''))[0])\n",
    "\n",
    "corpus = [x for x in data[\"description\"].values]\n",
    "\n",
    "description_pipe = Pipeline([\n",
    "    (\"vectorizer\", CountVectorizer(analyzer = transform_description)),\n",
    "    (\"tfidf\", TfidfTransformer())\n",
    "])\n",
    "\n",
    "X_tfidf = description_pipe.fit_transform(corpus)"
   ]
  },
  {
   "cell_type": "markdown",
   "metadata": {},
   "source": [
    "Scales the word_count feature to have a mean of 0 and a standard deviation of 1."
   ]
  },
  {
   "cell_type": "code",
   "execution_count": 11,
   "metadata": {},
   "outputs": [],
   "source": [
    "scaler = StandardScaler()\n",
    "scaled = scaler.fit_transform(data[\"word_count\"].values.reshape(-1, 1))\n",
    "X_tfidf = np.concatenate((X_tfidf.toarray(), scaled), axis=1)"
   ]
  },
  {
   "cell_type": "markdown",
   "metadata": {},
   "source": [
    "Divided the data into a train, validation and test set with an 80% for training data and 10% each for validation and testing data."
   ]
  },
  {
   "cell_type": "code",
   "execution_count": 12,
   "metadata": {},
   "outputs": [],
   "source": [
    "X_text_train, X_text_test, y_text_train, y_text_test = train_test_split(X_tfidf, data[\"bad\"], train_size=0.8, random_state=35)\n",
    "X_text_val, X_text_test, y_text_val, y_text_test = train_test_split(X_text_test, y_text_test, train_size=0.5, random_state=35)\n"
   ]
  },
  {
   "cell_type": "markdown",
   "metadata": {},
   "source": [
    "# Building and Evaluating Models\n",
    "\n",
    "### Support Vector Machine Model for training the description data"
   ]
  },
  {
   "cell_type": "code",
   "execution_count": 13,
   "metadata": {},
   "outputs": [
    {
     "data": {
      "text/plain": [
       "SVC(kernel='linear', probability=True)"
      ]
     },
     "execution_count": 13,
     "metadata": {},
     "output_type": "execute_result"
    }
   ],
   "source": [
    "clf = SVC(kernel=\"linear\", probability=True)\n",
    "clf.fit(X_text_train, y_text_train)"
   ]
  },
  {
   "cell_type": "markdown",
   "metadata": {},
   "source": [
    "Create predictions for the validation data."
   ]
  },
  {
   "cell_type": "code",
   "execution_count": 14,
   "metadata": {},
   "outputs": [],
   "source": [
    "predictions = clf.predict(X_text_val)\n",
    "predictions_proba = clf.predict_proba(X_text_val)\n",
    "predictions_proba = np.max(predictions_proba, axis=1)"
   ]
  },
  {
   "cell_type": "markdown",
   "metadata": {},
   "source": [
    "Classification report of the support vector machine model on the validation data."
   ]
  },
  {
   "cell_type": "code",
   "execution_count": 15,
   "metadata": {},
   "outputs": [
    {
     "name": "stdout",
     "output_type": "stream",
     "text": [
      "              precision    recall  f1-score   support\n",
      "\n",
      "           0       0.86      0.89      0.88        92\n",
      "           1       0.83      0.79      0.81        61\n",
      "\n",
      "    accuracy                           0.85       153\n",
      "   macro avg       0.85      0.84      0.84       153\n",
      "weighted avg       0.85      0.85      0.85       153\n",
      "\n"
     ]
    }
   ],
   "source": [
    "print(classification_report(y_text_val, predictions))"
   ]
  },
  {
   "cell_type": "markdown",
   "metadata": {},
   "source": [
    "### Deep Learning Model for training the image data\n",
    "\n",
    "I decided to use transfer learning because the data that I have is not a lot."
   ]
  },
  {
   "cell_type": "code",
   "execution_count": 16,
   "metadata": {},
   "outputs": [],
   "source": [
    "n_classes = 1\n",
    "epochs = 25\n",
    "batch_size = 64\n",
    "\n",
    "height = 299\n",
    "width = 299\n",
    "channels = 3\n",
    "input_shape = (height, width, channels)"
   ]
  },
  {
   "cell_type": "code",
   "execution_count": 17,
   "metadata": {},
   "outputs": [
    {
     "name": "stderr",
     "output_type": "stream",
     "text": [
      "2022-01-03 20:54:54.444417: I tensorflow/core/platform/cpu_feature_guard.cc:151] This TensorFlow binary is optimized with oneAPI Deep Neural Network Library (oneDNN) to use the following CPU instructions in performance-critical operations:  AVX2 FMA\n",
      "To enable them in other operations, rebuild TensorFlow with the appropriate compiler flags.\n"
     ]
    },
    {
     "name": "stdout",
     "output_type": "stream",
     "text": [
      "Model: \"sequential_1\"\n",
      "_________________________________________________________________\n",
      " Layer (type)                Output Shape              Param #   \n",
      "=================================================================\n",
      " sequential (Sequential)     (None, 299, 299, 3)       0         \n",
      "                                                                 \n",
      " efficientnet-b1 (Functional  (None, 10, 10, 1280)     6575232   \n",
      " )                                                               \n",
      "                                                                 \n",
      " global_average_pooling2d (G  (None, 1280)             0         \n",
      " lobalAveragePooling2D)                                          \n",
      "                                                                 \n",
      " dropout (Dropout)           (None, 1280)              0         \n",
      "                                                                 \n",
      " flatten (Flatten)           (None, 1280)              0         \n",
      "                                                                 \n",
      " dense (Dense)               (None, 128)               163968    \n",
      "                                                                 \n",
      " dense_1 (Dense)             (None, 1)                 129       \n",
      "                                                                 \n",
      "=================================================================\n",
      "Total params: 6,739,329\n",
      "Trainable params: 164,097\n",
      "Non-trainable params: 6,575,232\n",
      "_________________________________________________________________\n"
     ]
    }
   ],
   "source": [
    "efnb1 = efn.EfficientNetB1(weights='imagenet', include_top=False, input_shape=input_shape, classes=n_classes)\n",
    "efnb1.trainable = False\n",
    "\n",
    "rescale = tf.keras.Sequential([\n",
    "  tf.keras.layers.Rescaling(1./255)\n",
    "])\n",
    "\n",
    "model = Sequential()\n",
    "model.add(tf.keras.layers.Input(shape=(299, 299, 3)))\n",
    "model.add(rescale)\n",
    "model.add(efnb1)\n",
    "model.add(GlobalAveragePooling2D())\n",
    "model.add(Dropout(0.5))\n",
    "model.add(Flatten())\n",
    "model.add(Dense(128, activation=\"relu\"))\n",
    "model.add(Dense(n_classes, activation='sigmoid'))\n",
    "\n",
    "model.summary()"
   ]
  },
  {
   "cell_type": "code",
   "execution_count": 18,
   "metadata": {},
   "outputs": [],
   "source": [
    "optimizer = Adam(0.001)\n",
    "\n",
    "early_stop = EarlyStopping(monitor='val_loss', mode='min', verbose=1, patience=10, restore_best_weights=True)\n",
    "\n",
    "rlrop = ReduceLROnPlateau(monitor='val_loss', mode='min', patience= 5, factor= 0.5, min_lr= 1e-6, verbose=1)\n",
    "\n",
    "model.compile(optimizer=optimizer, loss=tf.keras.losses.BinaryCrossentropy(from_logits=True), metrics=['accuracy'])"
   ]
  },
  {
   "cell_type": "markdown",
   "metadata": {},
   "source": [
    "Save the deep learning model into a h5 file and loaded it into a variable named model."
   ]
  },
  {
   "cell_type": "code",
   "execution_count": 19,
   "metadata": {},
   "outputs": [],
   "source": [
    "# csv_logger = CSVLogger('training.log', separator=',', append=False)\n",
    "# model_history = model.fit(x=X_img_train, y=y_img_train, validation_data = (X_img_val, y_img_val), callbacks = [early_stop, rlrop, csv_logger], verbose = 1, epochs = epochs, batch_size=batch_size)\n",
    "# model.save(\"efficientnetb1_model.h5\")\n",
    "model = keras.models.load_model(\"efficientnetb1_model.h5\")\n"
   ]
  },
  {
   "cell_type": "markdown",
   "metadata": {},
   "source": [
    "Evaluation of the validation data."
   ]
  },
  {
   "cell_type": "code",
   "execution_count": 20,
   "metadata": {},
   "outputs": [
    {
     "name": "stderr",
     "output_type": "stream",
     "text": [
      "/Users/mick/Desktop/thananun-kanchanachayphoom-assignment/spam-detection/vir/lib/python3.7/site-packages/tensorflow/python/util/dispatch.py:1096: UserWarning: \"`binary_crossentropy` received `from_logits=True`, but the `output` argument was produced by a sigmoid or softmax activation and thus does not represent logits. Was this intended?\"\n",
      "  return dispatch_target(*args, **kwargs)\n"
     ]
    },
    {
     "name": "stdout",
     "output_type": "stream",
     "text": [
      "4/4 [==============================] - 15s 3s/step - loss: 0.4535 - accuracy: 0.7810\n"
     ]
    }
   ],
   "source": [
    "val_loss, val_accuracy = model.evaluate(X_img_val, y_img_val, verbose=1, batch_size=batch_size)"
   ]
  },
  {
   "cell_type": "markdown",
   "metadata": {},
   "source": [
    "Visualization of the loss and accuracy of both the training and validation set."
   ]
  },
  {
   "cell_type": "code",
   "execution_count": 21,
   "metadata": {},
   "outputs": [
    {
     "data": {
      "image/png": "[encoded data removed]",
      "text/plain": [
       "<Figure size 1296x576 with 2 Axes>"
      ]
     },
     "metadata": {
      "needs_background": "light"
     },
     "output_type": "display_data"
    }
   ],
   "source": [
    "log_data = pd.read_csv('training.log', sep=',', engine='python')\n",
    "\n",
    "plt.figure(figsize=(18,8))\n",
    "\n",
    "plt.suptitle('Loss and Accuracy Plots', fontsize=18)\n",
    "\n",
    "plt.subplot(1,2,1)\n",
    "plt.plot(log_data['loss'], label='Training Loss')\n",
    "plt.plot(log_data['val_loss'], label='Validation Loss')\n",
    "plt.legend()\n",
    "plt.xlabel('Number of epochs', fontsize=15)\n",
    "plt.ylabel('Loss', fontsize=15)\n",
    "\n",
    "plt.subplot(1,2,2)\n",
    "plt.plot(log_data['accuracy'], label='Train Accuracy')\n",
    "plt.plot(log_data['val_accuracy'], label='Validation Accuracy')\n",
    "plt.legend()\n",
    "plt.xlabel('Number of epochs', fontsize=14)\n",
    "plt.ylabel('Accuracy', fontsize=14)\n",
    "plt.show()"
   ]
  },
  {
   "cell_type": "markdown",
   "metadata": {},
   "source": [
    "### Evaluation of validation data by combining both models\n",
    "\n",
    "This is inspired by the ensemble methods which is combining machine learning models together to create a better model. In this case I am just looking at the output and see whether which model outputs a higher probability of being in a class and choose the output of that model."
   ]
  },
  {
   "cell_type": "code",
   "execution_count": 22,
   "metadata": {},
   "outputs": [],
   "source": [
    "corpus = [x for x in data_for_prediction[\"description\"].values]\n",
    "X_tfidf_predict = description_pipe.transform(corpus)\n",
    "scaled_val = scaler.transform(data_for_prediction[\"word_count\"].values.reshape(-1, 1))\n",
    "X_tfidf_predict = np.concatenate((X_tfidf_predict.toarray(), scaled_val), axis=1)\n",
    "\n",
    "X_text_predict_train, X_text_predict_test, y_text_predict_train, y_text_predict_test = train_test_split(X_tfidf_predict, data_for_prediction[\"bad\"], train_size=0.8, random_state=35)\n",
    "X_text_predict_val, X_text_predict_test, y_text_predict_val, y_text_predict_test = train_test_split(X_text_predict_test, y_text_predict_test, train_size=0.5, random_state=35)\n"
   ]
  },
  {
   "cell_type": "markdown",
   "metadata": {},
   "source": [
    "Get predictions for the validation data"
   ]
  },
  {
   "cell_type": "code",
   "execution_count": 23,
   "metadata": {},
   "outputs": [],
   "source": [
    "predictions_text_val = clf.predict(X_text_predict_val)\n",
    "predictions_proba_text_val = clf.predict_proba(X_text_predict_val)\n",
    "predictions_proba_text_val = np.max(predictions_proba_text_val, axis=1)\n",
    "\n",
    "predictions_proba_img_val = model.predict(X_img_val) \n",
    "predictions_img_val = predictions_proba_img_val >= 0.5"
   ]
  },
  {
   "cell_type": "code",
   "execution_count": 24,
   "metadata": {},
   "outputs": [],
   "source": [
    "def combine_predictions(predictions_img, predictions_proba_img, predictions_text, predictions_proba_text):\n",
    "    predictions_img = predictions_img.astype(int)\n",
    "    for i in range(len(predictions_proba_img)):\n",
    "        if predictions_proba_img[i][0] <= 0.5:\n",
    "            predictions_proba_img[i][0] = 1 - predictions_proba_img[i][0]\n",
    "            \n",
    "    final_predictions = []\n",
    "    for i in range(len(predictions_text)):\n",
    "        if predictions_proba_img[i][0] > predictions_proba_text[i]:\n",
    "            final_predictions.append(predictions_img[i][0])\n",
    "        else:\n",
    "            final_predictions.append(predictions_text[i])\n",
    "            \n",
    "    return final_predictions"
   ]
  },
  {
   "cell_type": "markdown",
   "metadata": {},
   "source": [
    "Classification report of the combined model on the validation data."
   ]
  },
  {
   "cell_type": "code",
   "execution_count": 25,
   "metadata": {},
   "outputs": [
    {
     "name": "stdout",
     "output_type": "stream",
     "text": [
      "              precision    recall  f1-score   support\n",
      "\n",
      "           0       0.94      0.93      0.93       107\n",
      "           1       0.92      0.94      0.93       103\n",
      "\n",
      "    accuracy                           0.93       210\n",
      "   macro avg       0.93      0.93      0.93       210\n",
      "weighted avg       0.93      0.93      0.93       210\n",
      "\n"
     ]
    }
   ],
   "source": [
    "final_predictions_val = combine_predictions(predictions_img_val, predictions_proba_img_val, predictions_text_val, predictions_proba_text_val)\n",
    "\n",
    "print(classification_report(y_img_val, final_predictions_val))\n"
   ]
  },
  {
   "cell_type": "markdown",
   "metadata": {},
   "source": [
    "### Evaluation of testing data by combining both models\n",
    "\n",
    "Get predictions for the validation data"
   ]
  },
  {
   "cell_type": "code",
   "execution_count": 26,
   "metadata": {},
   "outputs": [],
   "source": [
    "predictions_text_test = clf.predict(X_text_predict_test)\n",
    "predictions_proba_text_test = clf.predict_proba(X_text_predict_test)\n",
    "predictions_proba_text_test = np.max(predictions_proba_text_test, axis=1)\n",
    "\n",
    "predictions_proba_img_test = model.predict(X_img_test) \n",
    "predictions_img_test = predictions_proba_img_test >= 0.5"
   ]
  },
  {
   "cell_type": "code",
   "execution_count": 27,
   "metadata": {},
   "outputs": [
    {
     "name": "stdout",
     "output_type": "stream",
     "text": [
      "              precision    recall  f1-score   support\n",
      "\n",
      "           0       0.96      0.80      0.87       106\n",
      "           1       0.83      0.96      0.89       105\n",
      "\n",
      "    accuracy                           0.88       211\n",
      "   macro avg       0.89      0.88      0.88       211\n",
      "weighted avg       0.89      0.88      0.88       211\n",
      "\n"
     ]
    }
   ],
   "source": [
    "final_predictions_test = combine_predictions(predictions_img_test, predictions_proba_img_test, predictions_text_test, predictions_proba_text_test)\n",
    "\n",
    "print(classification_report(y_img_test, final_predictions_test))\n"
   ]
  },
  {
   "cell_type": "markdown",
   "metadata": {},
   "source": [
    "# Predicting future data\n",
    "\n",
    "Load data into a dataframe and transform the dataframe."
   ]
  },
  {
   "cell_type": "code",
   "execution_count": 28,
   "metadata": {},
   "outputs": [
    {
     "data": {
      "text/html": [
       "<div>\n",
       "<style scoped>\n",
       "    .dataframe tbody tr th:only-of-type {\n",
       "        vertical-align: middle;\n",
       "    }\n",
       "\n",
       "    .dataframe tbody tr th {\n",
       "        vertical-align: top;\n",
       "    }\n",
       "\n",
       "    .dataframe thead th {\n",
       "        text-align: right;\n",
       "    }\n",
       "</style>\n",
       "<table border=\"1\" class=\"dataframe\">\n",
       "  <thead>\n",
       "    <tr style=\"text-align: right;\">\n",
       "      <th></th>\n",
       "      <th>PromotionId</th>\n",
       "      <th>description</th>\n",
       "      <th>tocount_description</th>\n",
       "      <th>word_count</th>\n",
       "      <th>img_pixels</th>\n",
       "    </tr>\n",
       "  </thead>\n",
       "  <tbody>\n",
       "    <tr>\n",
       "      <th>0</th>\n",
       "      <td>1NWLA8yFGO4oZeRpAvdAY1JDJb6UtA</td>\n",
       "      <td>โปรโมชั่นพิเศษสำหรับ นักเรียน นักศึกษา เพียง แ...</td>\n",
       "      <td>[โปรโมชั่น, พิเศษ, สำหรับ,  , นักเรียน,  , นัก...</td>\n",
       "      <td>19</td>\n",
       "      <td>[[[51, 27, 23], [51, 27, 23], [51, 27, 23], [5...</td>\n",
       "    </tr>\n",
       "    <tr>\n",
       "      <th>1</th>\n",
       "      <td>1NWLAsDec3ZqmKAKk8cOgDmg5dVwuQ</td>\n",
       "      <td>ส่วนลด 10 บาททันที สำหรับลูกค้าในการซื้อแก้วแรก</td>\n",
       "      <td>[ส่วนลด,  , 10,  , บาท, ทันที,  , สำหรับ, ลูกค...</td>\n",
       "      <td>14</td>\n",
       "      <td>[[[191, 192, 197], [202, 202, 210], [216, 216,...</td>\n",
       "    </tr>\n",
       "    <tr>\n",
       "      <th>2</th>\n",
       "      <td>1NWLAA6FbijUl5mqQ0Z2VTetfFlmRX</td>\n",
       "      <td></td>\n",
       "      <td>[]</td>\n",
       "      <td>0</td>\n",
       "      <td>[[[166, 129, 79], [175, 138, 89], [176, 138, 8...</td>\n",
       "    </tr>\n",
       "    <tr>\n",
       "      <th>3</th>\n",
       "      <td>1NWLCX8ML1e2c5pkgf8oT1AVfAsFio</td>\n",
       "      <td>LINEMAN บริการส่งเค้กถึงมือท่าน</td>\n",
       "      <td>[LINEMAN,  , บริการ, ส่ง, เค้ก, ถึง, มือ, ท่าน]</td>\n",
       "      <td>8</td>\n",
       "      <td>[[[62, 128, 92], [62, 128, 92], [60, 125, 89],...</td>\n",
       "    </tr>\n",
       "    <tr>\n",
       "      <th>4</th>\n",
       "      <td>1NWLC0j3XRIwoXpTNXFkZVah0bnasd</td>\n",
       "      <td>2 วันสุดท้ายของเดือนนี้\\n\\n\\n30-31 สค 61</td>\n",
       "      <td>[2,  , วันสุดท้าย, ของ, เดือน, นี้, \\n, \\n, \\n...</td>\n",
       "      <td>16</td>\n",
       "      <td>[[[1, 1, 1], [1, 1, 1], [1, 1, 1], [1, 1, 1], ...</td>\n",
       "    </tr>\n",
       "    <tr>\n",
       "      <th>5</th>\n",
       "      <td>1NWLC7kLnFM4yOQYB03dlTzOD7mpfS</td>\n",
       "      <td>. Thousand Island Trio (เทาส์ซันไอแลนด์ทรี-โอ).</td>\n",
       "      <td>[.,  , Thousand,  , Island,  , Trio,  , (, เทา...</td>\n",
       "      <td>19</td>\n",
       "      <td>[[[65, 46, 43], [47, 49, 63], [30, 52, 90], [1...</td>\n",
       "    </tr>\n",
       "    <tr>\n",
       "      <th>6</th>\n",
       "      <td>1NWLCyOFSXLSEpd5pT0lhSL3CcyANR</td>\n",
       "      <td>วันนี้ที่ร้านมีต้มแซ่บเล้งขาหมูย่างด้วยน่ะ\\n\\n...</td>\n",
       "      <td>[วันนี้, ที่, ร้าน, มี, ต้ม, แซ่บ, เล้ง, ขา, ห...</td>\n",
       "      <td>20</td>\n",
       "      <td>[[[192, 173, 156], [192, 175, 157], [190, 175,...</td>\n",
       "    </tr>\n",
       "    <tr>\n",
       "      <th>7</th>\n",
       "      <td>1NWLCdQ2XH3sSyKMJw17gJjwsZQ3hg</td>\n",
       "      <td>โปร มา4 จ่าย3 ถึง30 กันยายน 2561 นี้รีบๆชวนเพื...</td>\n",
       "      <td>[โปร,  , มา, 4,  , จ่าย, 3,  , ถึง, 30,  , กัน...</td>\n",
       "      <td>24</td>\n",
       "      <td>[[[1, 1, 1], [1, 1, 1], [1, 1, 1], [1, 1, 1], ...</td>\n",
       "    </tr>\n",
       "    <tr>\n",
       "      <th>8</th>\n",
       "      <td>1NWLCNO4PNXZkMj9bIizTckwvvf0w3</td>\n",
       "      <td>Craft Intersect 2nd Anniversary</td>\n",
       "      <td>[Craft,  , Intersect,  , 2, nd,  , Anniversary]</td>\n",
       "      <td>8</td>\n",
       "      <td>[[[231, 195, 105], [250, 175, 42], [243, 180, ...</td>\n",
       "    </tr>\n",
       "    <tr>\n",
       "      <th>9</th>\n",
       "      <td>1NWLC6LdQSm9qGmce4CnUFkpljQk1P</td>\n",
       "      <td></td>\n",
       "      <td>[]</td>\n",
       "      <td>0</td>\n",
       "      <td>[[[165, 173, 176], [165, 173, 176], [167, 175,...</td>\n",
       "    </tr>\n",
       "  </tbody>\n",
       "</table>\n",
       "</div>"
      ],
      "text/plain": [
       "                      PromotionId  \\\n",
       "0  1NWLA8yFGO4oZeRpAvdAY1JDJb6UtA   \n",
       "1  1NWLAsDec3ZqmKAKk8cOgDmg5dVwuQ   \n",
       "2  1NWLAA6FbijUl5mqQ0Z2VTetfFlmRX   \n",
       "3  1NWLCX8ML1e2c5pkgf8oT1AVfAsFio   \n",
       "4  1NWLC0j3XRIwoXpTNXFkZVah0bnasd   \n",
       "5  1NWLC7kLnFM4yOQYB03dlTzOD7mpfS   \n",
       "6  1NWLCyOFSXLSEpd5pT0lhSL3CcyANR   \n",
       "7  1NWLCdQ2XH3sSyKMJw17gJjwsZQ3hg   \n",
       "8  1NWLCNO4PNXZkMj9bIizTckwvvf0w3   \n",
       "9  1NWLC6LdQSm9qGmce4CnUFkpljQk1P   \n",
       "\n",
       "                                         description  \\\n",
       "0  โปรโมชั่นพิเศษสำหรับ นักเรียน นักศึกษา เพียง แ...   \n",
       "1    ส่วนลด 10 บาททันที สำหรับลูกค้าในการซื้อแก้วแรก   \n",
       "2                                                      \n",
       "3                    LINEMAN บริการส่งเค้กถึงมือท่าน   \n",
       "4           2 วันสุดท้ายของเดือนนี้\\n\\n\\n30-31 สค 61   \n",
       "5    . Thousand Island Trio (เทาส์ซันไอแลนด์ทรี-โอ).   \n",
       "6  วันนี้ที่ร้านมีต้มแซ่บเล้งขาหมูย่างด้วยน่ะ\\n\\n...   \n",
       "7  โปร มา4 จ่าย3 ถึง30 กันยายน 2561 นี้รีบๆชวนเพื...   \n",
       "8                    Craft Intersect 2nd Anniversary   \n",
       "9                                                      \n",
       "\n",
       "                                 tocount_description  word_count  \\\n",
       "0  [โปรโมชั่น, พิเศษ, สำหรับ,  , นักเรียน,  , นัก...          19   \n",
       "1  [ส่วนลด,  , 10,  , บาท, ทันที,  , สำหรับ, ลูกค...          14   \n",
       "2                                                 []           0   \n",
       "3    [LINEMAN,  , บริการ, ส่ง, เค้ก, ถึง, มือ, ท่าน]           8   \n",
       "4  [2,  , วันสุดท้าย, ของ, เดือน, นี้, \\n, \\n, \\n...          16   \n",
       "5  [.,  , Thousand,  , Island,  , Trio,  , (, เทา...          19   \n",
       "6  [วันนี้, ที่, ร้าน, มี, ต้ม, แซ่บ, เล้ง, ขา, ห...          20   \n",
       "7  [โปร,  , มา, 4,  , จ่าย, 3,  , ถึง, 30,  , กัน...          24   \n",
       "8    [Craft,  , Intersect,  , 2, nd,  , Anniversary]           8   \n",
       "9                                                 []           0   \n",
       "\n",
       "                                          img_pixels  \n",
       "0  [[[51, 27, 23], [51, 27, 23], [51, 27, 23], [5...  \n",
       "1  [[[191, 192, 197], [202, 202, 210], [216, 216,...  \n",
       "2  [[[166, 129, 79], [175, 138, 89], [176, 138, 8...  \n",
       "3  [[[62, 128, 92], [62, 128, 92], [60, 125, 89],...  \n",
       "4  [[[1, 1, 1], [1, 1, 1], [1, 1, 1], [1, 1, 1], ...  \n",
       "5  [[[65, 46, 43], [47, 49, 63], [30, 52, 90], [1...  \n",
       "6  [[[192, 173, 156], [192, 175, 157], [190, 175,...  \n",
       "7  [[[1, 1, 1], [1, 1, 1], [1, 1, 1], [1, 1, 1], ...  \n",
       "8  [[[231, 195, 105], [250, 175, 42], [243, 180, ...  \n",
       "9  [[[165, 173, 176], [165, 173, 176], [167, 175,...  "
      ]
     },
     "execution_count": 28,
     "metadata": {},
     "output_type": "execute_result"
    }
   ],
   "source": [
    "test_data_csv_path = os.path.join(\"promotion_classifier_data\", \"testing_set.csv\")\n",
    "test_data = pd.read_csv(test_data_csv_path)\n",
    "test_data = dataframe_pipeline(test_data, \"testing_images\")\n",
    "test_data.head(10)"
   ]
  },
  {
   "cell_type": "markdown",
   "metadata": {},
   "source": [
    "Reshape the image input data into (None, 299, 299, 3)."
   ]
  },
  {
   "cell_type": "code",
   "execution_count": 29,
   "metadata": {},
   "outputs": [],
   "source": [
    "img_input_test = test_data[\"img_pixels\"][0].reshape(1, 299, 299, 3)\n",
    "for idx, img in enumerate(test_data[\"img_pixels\"].values):\n",
    "    if idx != 0:\n",
    "        img_input_test = np.concatenate((img_input_test, img.reshape(1, 299, 299, 3)))\n",
    "    \n",
    "# with open(\"img_input_test.npy\", \"wb\") as f:\n",
    "#     np.save(f, img_input_test)\n",
    "    \n",
    "# with open(\"img_input_test.npy\", \"rb\") as f:\n",
    "#     img_input_test = np.load(f)"
   ]
  },
  {
   "cell_type": "markdown",
   "metadata": {},
   "source": [
    "Transform description data."
   ]
  },
  {
   "cell_type": "code",
   "execution_count": 30,
   "metadata": {},
   "outputs": [],
   "source": [
    "corpus = [x for x in test_data[\"description\"].values]\n",
    "X_tfidf_test = description_pipe.transform(corpus)\n",
    "scaled_test = scaler.transform(test_data[\"word_count\"].values.reshape(-1, 1))\n",
    "X_tfidf_test = np.concatenate((X_tfidf_test.toarray(), scaled_test), axis=1)"
   ]
  },
  {
   "cell_type": "markdown",
   "metadata": {},
   "source": [
    "Make predictions on both the image and description data."
   ]
  },
  {
   "cell_type": "code",
   "execution_count": 31,
   "metadata": {},
   "outputs": [],
   "source": [
    "predictions_text = clf.predict(X_tfidf_test)\n",
    "predictions_proba_text = clf.predict_proba(X_tfidf_test)\n",
    "predictions_proba_text = np.max(predictions_proba_text, axis=1)\n",
    "\n",
    "predictions_proba_img = model.predict(img_input_test) \n",
    "predictions_img = predictions_proba_img >= 0.5"
   ]
  },
  {
   "cell_type": "markdown",
   "metadata": {},
   "source": [
    "Combine both predictions and save the prediction into a csv file."
   ]
  },
  {
   "cell_type": "code",
   "execution_count": 32,
   "metadata": {},
   "outputs": [],
   "source": [
    "final_predictions = combine_predictions(predictions_img, predictions_proba_img, predictions_text, predictions_proba_text)\n",
    "\n",
    "final_predictions_pd = pd.DataFrame({\"bad\": final_predictions})\n",
    "final_predictions_pd.to_csv(\"prediction.csv\")\n"
   ]
  },
  {
   "cell_type": "markdown",
   "metadata": {},
   "source": [
    "# Future Improvement\n",
    "\n",
    "In the future, I could create a class model that combines both the support vector machine model and the efficientnet B1 model. This class will make fitting, predicting and evaluating the model much more easier. I could also try more pre-trained architecture and fine-tuned the model more to try to increase the model's accuracy. The validation loss doesn't decrease as much and the validation accuracy doesn't increase as much and so I speculate that this could be due to some overfitting."
   ]
  }
 ],
 "metadata": {
  "kernelspec": {
   "display_name": "Python 3",
   "language": "python",
   "name": "python3"
  },
  "language_info": {
   "codemirror_mode": {
    "name": "ipython",
    "version": 3
   },
   "file_extension": ".py",
   "mimetype": "text/x-python",
   "name": "python",
   "nbconvert_exporter": "python",
   "pygments_lexer": "ipython3",
   "version": "3.9.1"
  }
 },
 "nbformat": 4,
 "nbformat_minor": 5
}
